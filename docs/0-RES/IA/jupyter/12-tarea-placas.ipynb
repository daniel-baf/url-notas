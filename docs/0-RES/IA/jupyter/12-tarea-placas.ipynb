{
 "cells": [
  {
   "cell_type": "code",
   "execution_count": 29,
   "metadata": {},
   "outputs": [],
   "source": [
    "import cv2\n",
    "import pytesseract\n",
    "import matplotlib.pyplot as plt\n",
    "import os"
   ]
  },
  {
   "cell_type": "code",
   "execution_count": 30,
   "metadata": {},
   "outputs": [],
   "source": [
    "def get_canny_edges(\n",
    "    gray: cv2.Mat, blur_params=(5, 5), canny_params=(100, 200), canny_dilate=1\n",
    ") -> cv2.Mat:\n",
    "    \"\"\"\n",
    "    Get the Canny edges of an image.\n",
    "    \"\"\"\n",
    "    gray = cv2.GaussianBlur(gray, blur_params, 0)\n",
    "    edges = cv2.Canny(gray, canny_params[0], canny_params[1])\n",
    "    edges = cv2.dilate(edges, None, iterations=canny_dilate)\n",
    "    return edges"
   ]
  },
  {
   "cell_type": "code",
   "execution_count": 31,
   "metadata": {},
   "outputs": [],
   "source": [
    "def extract_text_by_aspect_ratio(\n",
    "    image: cv2.Mat, edges: cv2.Mat, gray: cv2.Mat\n",
    ") -> list[str]:\n",
    "    \"\"\"\n",
    "    Extrae texto de imágenes usando la relación de aspecto.\n",
    "    Busca formas rectangulares que puedan contener texto.\n",
    "    \"\"\"\n",
    "    contours, _ = cv2.findContours(edges, cv2.RETR_EXTERNAL, cv2.CHAIN_APPROX_SIMPLE)\n",
    "    texts = []\n",
    "\n",
    "    for contour in contours:\n",
    "        area = cv2.contourArea(contour)\n",
    "        x_pos, y_pos, width, height = cv2.boundingRect(contour)\n",
    "\n",
    "        # Filtrar contornos muy pequeños\n",
    "        if area < 800 or width < 50 or height < 15:\n",
    "            continue\n",
    "\n",
    "        # Aproximar la forma\n",
    "        epsilon = 0.02 * cv2.arcLength(contour, True)\n",
    "        approx = cv2.approxPolyDP(contour, epsilon, True)\n",
    "\n",
    "        # Asegurar que es una forma rectangular\n",
    "        if len(approx) < 4 or len(approx) > 6:\n",
    "            continue\n",
    "\n",
    "        aspect_ratio = float(width) / height\n",
    "        if not (1.5 <= aspect_ratio <= 5.0):  # Ajuste para matrículas comunes\n",
    "            continue\n",
    "\n",
    "        # Recortar la posible placa y extraer el texto\n",
    "        placa = gray[y_pos : y_pos + height, x_pos : x_pos + width]\n",
    "        text = pytesseract.image_to_string(placa, config=\"--psm 8\").strip()\n",
    "\n",
    "        # Filtrar textos no válidos\n",
    "        if len(text) < 4 or not any(char.isdigit() for char in text):\n",
    "            continue\n",
    "\n",
    "        # Dibujar el rectángulo y mostrar el texto detectado\n",
    "        cv2.rectangle(\n",
    "            image, (x_pos, y_pos), (x_pos + width, y_pos + height), (0, 255, 0), 2\n",
    "        )\n",
    "        cv2.putText(\n",
    "            image,\n",
    "            text,\n",
    "            (x_pos, y_pos - 5),\n",
    "            cv2.FONT_HERSHEY_SIMPLEX,\n",
    "            0.8,\n",
    "            (0, 255, 0),\n",
    "            2,\n",
    "        )\n",
    "\n",
    "        texts.append(text)\n",
    "\n",
    "    return texts, image\n"
   ]
  },
  {
   "cell_type": "code",
   "execution_count": 32,
   "metadata": {},
   "outputs": [],
   "source": [
    "def extract_text(edges, img, gray):\n",
    "    return extract_text_by_aspect_ratio(img, edges, gray)"
   ]
  },
  {
   "cell_type": "code",
   "execution_count": 33,
   "metadata": {},
   "outputs": [],
   "source": [
    "def get_slab_text(image_path: str, attempt=0, gray=None) -> tuple[list[str], cv2.Mat]:\n",
    "    \"\"\"\n",
    "    Extrae texto de una imagen probando múltiples configuraciones.\n",
    "    \"\"\"\n",
    "    attempts = [\n",
    "        ((5, 5), (100, 200)),\n",
    "        ((7, 7), (50, 150)),\n",
    "        ((3, 3), (120, 250)),\n",
    "        ((9, 9), (30, 100)),\n",
    "        ((1, 1), (200, 300)),\n",
    "        ((11, 11), (20, 80)),\n",
    "        ((5, 5), (75, 150)),\n",
    "        ((7, 7), (100, 200)),\n",
    "        ((3, 3), (50, 100)),\n",
    "    ]\n",
    "\n",
    "    if attempt >= len(attempts):\n",
    "        return [], None\n",
    "\n",
    "    img = cv2.imread(image_path)\n",
    "    if img is None:\n",
    "        print(f\"Error: No se pudo cargar la imagen {image_path}\")\n",
    "        return [], None\n",
    "\n",
    "    if gray is None:\n",
    "        gray = cv2.cvtColor(img, cv2.COLOR_BGR2GRAY)\n",
    "\n",
    "    blur_params, canny_params = attempts[attempt]\n",
    "\n",
    "    edges = get_canny_edges(gray, blur_params, canny_params)\n",
    "    texts, updated_img = extract_text(edges, img, gray)\n",
    "\n",
    "    if texts:\n",
    "        return texts, updated_img\n",
    "\n",
    "    return get_slab_text(image_path, attempt + 1, gray)"
   ]
  },
  {
   "cell_type": "code",
   "execution_count": 34,
   "metadata": {},
   "outputs": [],
   "source": [
    "def get_all_files_in_directory(directory_path: str) -> list:\n",
    "    \"\"\"\n",
    "    Get all files in a directory recursively.\n",
    "    \"\"\"\n",
    "    if not os.path.exists(directory_path):\n",
    "        print(f\"Error: El directorio {directory_path} no existe.\")\n",
    "        return []\n",
    "\n",
    "    return [\n",
    "        os.path.join(directory_path, file)\n",
    "        for file in os.listdir(directory_path)\n",
    "        if file.lower().endswith(\".png\") or file.lower().endswith(\".jpg\")\n",
    "    ]"
   ]
  },
  {
   "cell_type": "code",
   "execution_count": 35,
   "metadata": {},
   "outputs": [
    {
     "name": "stdout",
     "output_type": "stream",
     "text": [
      "File path: ./public/img/jpg/autos/auto.jpg, Text: ['CVL 657 18:']\n",
      "File path: ./public/img/jpg/autos/ej01-auto.jpg, Text: ['.- 5']\n",
      "File path: ./public/img/jpg/autos/ej02-auto.jpg, Text: ['7», =a']\n",
      "File path: ./public/img/jpg/autos/ej03-auto.jpg, Text: []\n",
      "File path: ./public/img/jpg/autos/ej04-auto.jpg, Text: ['p..BO0CDS']\n"
     ]
    }
   ],
   "source": [
    "directory_path = \"./public/img/jpg/autos\"\n",
    "file_paths = get_all_files_in_directory(directory_path)\n",
    "\n",
    "for file_path in file_paths:\n",
    "    texts, updated_img = get_slab_text(file_path)\n",
    "    print(f\"File path: {file_path}, Text: {texts}\")"
   ]
  },
  {
   "cell_type": "code",
   "execution_count": null,
   "metadata": {},
   "outputs": [],
   "source": []
  }
 ],
 "metadata": {
  "kernelspec": {
   "display_name": ".venv",
   "language": "python",
   "name": "python3"
  },
  "language_info": {
   "codemirror_mode": {
    "name": "ipython",
    "version": 3
   },
   "file_extension": ".py",
   "mimetype": "text/x-python",
   "name": "python",
   "nbconvert_exporter": "python",
   "pygments_lexer": "ipython3",
   "version": "3.11.2"
  }
 },
 "nbformat": 4,
 "nbformat_minor": 2
}
