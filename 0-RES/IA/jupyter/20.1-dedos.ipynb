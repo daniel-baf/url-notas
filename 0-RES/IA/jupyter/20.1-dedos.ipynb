{
 "cells": [
  {
   "cell_type": "code",
   "execution_count": 1,
   "id": "f25cc6c4",
   "metadata": {},
   "outputs": [
    {
     "name": "stderr",
     "output_type": "stream",
     "text": [
      "2025-05-07 22:18:50.621620: I tensorflow/core/util/port.cc:153] oneDNN custom operations are on. You may see slightly different numerical results due to floating-point round-off errors from different computation orders. To turn them off, set the environment variable `TF_ENABLE_ONEDNN_OPTS=0`.\n",
      "2025-05-07 22:18:50.781304: E external/local_xla/xla/stream_executor/cuda/cuda_fft.cc:467] Unable to register cuFFT factory: Attempting to register factory for plugin cuFFT when one has already been registered\n",
      "WARNING: All log messages before absl::InitializeLog() is called are written to STDERR\n",
      "E0000 00:00:1746677930.837499   50731 cuda_dnn.cc:8579] Unable to register cuDNN factory: Attempting to register factory for plugin cuDNN when one has already been registered\n",
      "E0000 00:00:1746677930.852081   50731 cuda_blas.cc:1407] Unable to register cuBLAS factory: Attempting to register factory for plugin cuBLAS when one has already been registered\n",
      "W0000 00:00:1746677930.977882   50731 computation_placer.cc:177] computation placer already registered. Please check linkage and avoid linking the same target more than once.\n",
      "W0000 00:00:1746677930.977899   50731 computation_placer.cc:177] computation placer already registered. Please check linkage and avoid linking the same target more than once.\n",
      "W0000 00:00:1746677930.977901   50731 computation_placer.cc:177] computation placer already registered. Please check linkage and avoid linking the same target more than once.\n",
      "W0000 00:00:1746677930.977902   50731 computation_placer.cc:177] computation placer already registered. Please check linkage and avoid linking the same target more than once.\n",
      "2025-05-07 22:18:50.986995: I tensorflow/core/platform/cpu_feature_guard.cc:210] This TensorFlow binary is optimized to use available CPU instructions in performance-critical operations.\n",
      "To enable the following instructions: AVX2 AVX512F AVX512_VNNI AVX512_BF16 FMA, in other operations, rebuild TensorFlow with the appropriate compiler flags.\n"
     ]
    }
   ],
   "source": [
    "import cv2\n",
    "import mediapipe as mp\n",
    "import math"
   ]
  },
  {
   "cell_type": "code",
   "execution_count": 2,
   "id": "bf9916aa",
   "metadata": {},
   "outputs": [],
   "source": [
    "mp_drawing = mp.solutions.drawing_utils\n",
    "mp_hands = mp.solutions.hands"
   ]
  },
  {
   "cell_type": "code",
   "execution_count": 3,
   "id": "0a9e14ce",
   "metadata": {},
   "outputs": [],
   "source": [
    "def distancia(p1, p2):\n",
    "    return math.sqrt((p2.x - p1.x) ** 2 + (p2.y - p1.y) ** 2)"
   ]
  },
  {
   "cell_type": "code",
   "execution_count": 4,
   "id": "359bb648",
   "metadata": {},
   "outputs": [],
   "source": [
    "# funcion para determinar si un dedo esta levantado o no\n",
    "\n",
    "# tip = punta\n",
    "# pip = primera articulacion\n",
    "# dip = segunda articulacion\n",
    "# mcp = metacarpiana (base del dedo)\n",
    "def dedo_levantado(landmarks, dedo_tip, dedo_dip, dedo_pip, dedo_mcp, umbral=0.1):\n",
    "    # comparar la posición \"y\" del punto a la punta con los puntos anteriores\n",
    "    return (\n",
    "        landmarks[dedo_tip].y < landmarks[dedo_dip].y\n",
    "        and landmarks[dedo_dip].y < landmarks[dedo_pip].y\n",
    "        and landmarks[dedo_pip].y < landmarks[dedo_mcp].y\n",
    "    )\n",
    "\n"
   ]
  },
  {
   "cell_type": "code",
   "execution_count": 5,
   "id": "7eff29aa",
   "metadata": {},
   "outputs": [],
   "source": [
    "ruta = \"./public/img/jpg/manos.jpg\""
   ]
  },
  {
   "cell_type": "code",
   "execution_count": 6,
   "id": "7d796840",
   "metadata": {},
   "outputs": [
    {
     "name": "stderr",
     "output_type": "stream",
     "text": [
      "WARNING: All log messages before absl::InitializeLog() is called are written to STDERR\n",
      "I0000 00:00:1746677975.948362   50731 gl_context_egl.cc:85] Successfully initialized EGL. Major : 1 Minor: 5\n",
      "I0000 00:00:1746677975.952249   50881 gl_context.cc:369] GL version: 3.2 (OpenGL ES 3.2 Mesa 25.0.5-arch1.1), renderer: AMD Radeon 610M (radeonsi, raphael_mendocino, LLVM 19.1.7, DRM 3.61, 6.12.27-1-lts)\n",
      "INFO: Created TensorFlow Lite XNNPACK delegate for CPU.\n",
      "W0000 00:00:1746677975.967272   50866 inference_feedback_manager.cc:114] Feedback manager requires a model with a single signature inference. Disabling support for feedback tensors.\n",
      "W0000 00:00:1746677975.975833   50863 inference_feedback_manager.cc:114] Feedback manager requires a model with a single signature inference. Disabling support for feedback tensors.\n",
      "W0000 00:00:1746677976.046130   50857 landmark_projection_calculator.cc:186] Using NORM_RECT without IMAGE_DIMENSIONS is only supported for the square ROI. Provide IMAGE_DIMENSIONS or use PROJECTION_MATRIX.\n",
      "qt.qpa.plugin: Could not find the Qt platform plugin \"wayland\" in \"/mnt/data/files/url/url-notas/docs/0-RES/IA/jupyter/.venv/lib/python3.12/site-packages/cv2/qt/plugins\"\n"
     ]
    },
    {
     "name": "stdout",
     "output_type": "stream",
     "text": [
      "handedness: [classification {\n",
      "  index: 0\n",
      "  score: 0.986937106\n",
      "  label: \"Left\"\n",
      "}\n",
      ", classification {\n",
      "  index: 1\n",
      "  score: 0.946240902\n",
      "  label: \"Right\"\n",
      "}\n",
      "]\n",
      "Dedos levantados: ['pulgar', 'indice', 'medio', 'anular', 'menique']\n",
      "Dedos levantados: ['pulgar', 'indice', 'medio', 'anular', 'menique', 'pulgar', 'indice', 'medio', 'anular', 'menique']\n"
     ]
    }
   ],
   "source": [
    "with mp_hands.Hands(\n",
    "    static_image_mode=False,\n",
    "    max_num_hands=2,\n",
    "    min_detection_confidence=0.7,\n",
    "    min_tracking_confidence=0.5,\n",
    ") as hands:\n",
    "    image = cv2.imread(ruta)\n",
    "    image = cv2.flip(image, 1)\n",
    "    image_rgb = cv2.cvtColor(image, cv2.COLOR_BGR2RGB)\n",
    "    results = hands.process(image_rgb)\n",
    "\n",
    "    print(\"handedness:\", results.multi_handedness)\n",
    "\n",
    "    if results.multi_hand_landmarks:\n",
    "        # verificar si cada dedo está levantado\n",
    "        dedos_levantados = []\n",
    "\n",
    "        for hand_landmarks in results.multi_hand_landmarks:\n",
    "            # dibujar los puntos de la mano\n",
    "            mp_drawing.draw_landmarks(\n",
    "                image,\n",
    "                hand_landmarks,\n",
    "                mp_hands.HAND_CONNECTIONS,\n",
    "                mp_drawing.DrawingSpec(color=(0, 255, 0), thickness=2, circle_radius=2),\n",
    "                mp_drawing.DrawingSpec(color=(255, 0, 0), thickness=2, circle_radius=2),\n",
    "            )\n",
    "\n",
    "            # obtener las marcas como una lista\n",
    "            landmarks = hand_landmarks.landmark\n",
    "\n",
    "            # definir los indices de los puntos de los dedos (segun MediaPipe)\n",
    "            PULGAR_TIP = 4\n",
    "            INDICE_TIP = 8\n",
    "            MEDIO_TIP = 12\n",
    "            ANULAR_TIP = 16\n",
    "            MEÑIQUE_TIP = 20\n",
    "\n",
    "            # PUNTA DE CADA DEDO, TIP, DIP, PIP, MCP\n",
    "            dedos = {\n",
    "                \"pulgar\": (PULGAR_TIP, 2, 1, 0),\n",
    "                \"indice\": (INDICE_TIP, 6, 5, 0),\n",
    "                \"medio\": (MEDIO_TIP, 10, 9, 0),\n",
    "                \"anular\": (ANULAR_TIP, 14, 13, 0),\n",
    "                \"menique\": (MEÑIQUE_TIP, 18, 17, 0),\n",
    "            }\n",
    "\n",
    "            for nombre, (tip, dip, pip, mcp) in dedos.items():\n",
    "                if dedo_levantado(landmarks, tip, dip, pip, mcp):\n",
    "                    dedos_levantados.append(nombre)\n",
    "\n",
    "            print(\"Dedos levantados:\", dedos_levantados)\n",
    "\n",
    "            # mostrar los dedos levantados enl a imagen\n",
    "            cv2.putText(\n",
    "                image,\n",
    "                f\"Dedos: {','.join(dedos_levantados)}\",\n",
    "                (10, 30),\n",
    "                cv2.FONT_HERSHEY_SIMPLEX,\n",
    "                1,\n",
    "                (0, 255, 0),\n",
    "                2,\n",
    "            )\n",
    "            \n",
    "        # mostrar la imagen\n",
    "        cv2.imshow(\"Mano\", image)\n",
    "        cv2.waitKey(0)\n",
    "        cv2.destroyAllWindows()"
   ]
  },
  {
   "cell_type": "code",
   "execution_count": null,
   "id": "a658320d",
   "metadata": {},
   "outputs": [],
   "source": []
  }
 ],
 "metadata": {
  "kernelspec": {
   "display_name": ".venv",
   "language": "python",
   "name": "python3"
  },
  "language_info": {
   "codemirror_mode": {
    "name": "ipython",
    "version": 3
   },
   "file_extension": ".py",
   "mimetype": "text/x-python",
   "name": "python",
   "nbconvert_exporter": "python",
   "pygments_lexer": "ipython3",
   "version": "3.12.8"
  }
 },
 "nbformat": 4,
 "nbformat_minor": 5
}
