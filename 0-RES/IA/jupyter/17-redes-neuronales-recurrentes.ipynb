{
 "cells": [
  {
   "cell_type": "code",
   "execution_count": null,
   "id": "1574ef1e",
   "metadata": {},
   "outputs": [],
   "source": [
    "import numpy as np\n",
    "from tensorflow.keras.models import Sequential\n",
    "from tensorflow.keras.layers import SimpleRNN, Dense, Embedding\n",
    "from tensorflow.keras.utils import to_categorical\n"
   ]
  },
  {
   "cell_type": "markdown",
   "id": "7816e719",
   "metadata": {},
   "source": [
    "# TEXTO. clasico hola mundo"
   ]
  },
  {
   "cell_type": "code",
   "execution_count": null,
   "id": "6c940428",
   "metadata": {},
   "outputs": [],
   "source": [
    "# texto base\n",
    "basic_text = \"las redes neuronales recurrentes son muy utiles para procesar secuencias de datos\""
   ]
  },
  {
   "cell_type": "code",
   "execution_count": null,
   "id": "e0edf381",
   "metadata": {},
   "outputs": [],
   "source": [
    "# crear un directorio de caracteres a enteros\n",
    "characters = sorted(list(set(basic_text)))\n",
    "\n",
    "# crear un diccionario de caracteres a enteros\n",
    "char_to_int = {c: i for i, c in enumerate(characters)}\n",
    "# crear un diccionario de enteros a caracteres\n",
    "int_to_char = {i: c for c, i in char_to_int.items()}"
   ]
  },
  {
   "cell_type": "code",
   "execution_count": null,
   "id": "e4180c67",
   "metadata": {},
   "outputs": [],
   "source": [
    "# preparar los datos\n",
    "seq_length = 3\n",
    "x = []\n",
    "y = []"
   ]
  },
  {
   "cell_type": "code",
   "execution_count": null,
   "id": "9c6ec3a4",
   "metadata": {},
   "outputs": [],
   "source": [
    "for i in range(len(basic_text) - seq_length):\n",
    "    input_sequence = basic_text[i:i + seq_length]\n",
    "    output_sequence = basic_text[i + seq_length]\n",
    "\n",
    "    x.append([char_to_int[char] for char in input_sequence])\n",
    "    y.append(char_to_int[output_sequence])"
   ]
  },
  {
   "cell_type": "code",
   "execution_count": null,
   "id": "2718486f",
   "metadata": {},
   "outputs": [],
   "source": [
    "# convertir a numpy arrays\n",
    "x = np.array(x)\n",
    "y = np.array(y) # categoria, se convierte en categorico"
   ]
  },
  {
   "cell_type": "code",
   "execution_count": null,
   "id": "ae512fe0",
   "metadata": {},
   "outputs": [],
   "source": [
    "# redimensionar para RNN: muestras, pasos de tiempo y caracteristicas\n",
    "x = np.reshape(x, (x.shape[0], x.shape[1], 1))\n",
    "x.shape\n"
   ]
  },
  {
   "cell_type": "code",
   "execution_count": null,
   "id": "c354985a",
   "metadata": {},
   "outputs": [],
   "source": [
    "# crear modelo\n",
    "model = Sequential()\n",
    "model.add(SimpleRNN(32, input_shape=(x.shape[1], 1), return_sequences=False))\n",
    "model.add(Dense(len(characters), activation='softmax'))"
   ]
  },
  {
   "cell_type": "code",
   "execution_count": null,
   "id": "98dcf77d",
   "metadata": {},
   "outputs": [],
   "source": [
    "# compilar el modelo\n",
    "model.compile(loss='sparse_categorical_crossentropy', optimizer='adam', metrics=['accuracy'])\n",
    "model.summary()"
   ]
  },
  {
   "cell_type": "code",
   "execution_count": null,
   "id": "55d539a3",
   "metadata": {},
   "outputs": [],
   "source": [
    "model.fit(x, y, epochs=200, batch_size=1, verbose=0); # usando verbose =0 para no mostrar el progreso"
   ]
  },
  {
   "cell_type": "code",
   "execution_count": null,
   "id": "912d0182",
   "metadata": {},
   "outputs": [],
   "source": [
    "#  probar la secuencia\n",
    "secuence = \"mun\"\n",
    "new_entry = np.array([[char_to_int[char] for char in secuence]])\n",
    "\n",
    "new_entry = np.reshape(new_entry, (1, seq_length, 1))\n",
    "new_entry.shape"
   ]
  },
  {
   "cell_type": "code",
   "execution_count": null,
   "id": "1074524a",
   "metadata": {},
   "outputs": [],
   "source": [
    "prediction = model.predict(new_entry, verbose=0)\n",
    "index = np.argmax(prediction)\n",
    "print(f\"Siguiente letra despues de '{secuence}' es '{int_to_char[index]}'\")\n"
   ]
  },
  {
   "cell_type": "code",
   "execution_count": null,
   "id": "18a51f08",
   "metadata": {},
   "outputs": [],
   "source": [
    "# OTRA PRUEBA\n",
    "# probar la secuencia\n",
    "secuence = \" rec\"[-seq_length:]  # Ensure the sequence length matches seq_length\n",
    "new_entry = np.array([[char_to_int[char] for char in secuence]])\n",
    "\n",
    "new_entry = np.reshape(new_entry, (1, seq_length, 1))\n",
    "new_entry.shape\n",
    "\n",
    "prediction = model.predict(new_entry, verbose=0)\n",
    "index = np.argmax(prediction)\n",
    "print(f\"Siguiente letra despues de '{secuence}' es '{int_to_char[index]}'\")\n"
   ]
  },
  {
   "cell_type": "code",
   "execution_count": null,
   "id": "8be73d51",
   "metadata": {},
   "outputs": [],
   "source": []
  }
 ],
 "metadata": {
  "kernelspec": {
   "display_name": "venv",
   "language": "python",
   "name": "python3"
  },
  "language_info": {
   "codemirror_mode": {
    "name": "ipython",
    "version": 3
   },
   "file_extension": ".py",
   "mimetype": "text/x-python",
   "name": "python",
   "nbconvert_exporter": "python",
   "pygments_lexer": "ipython3",
   "version": "3.10.16"
  }
 },
 "nbformat": 4,
 "nbformat_minor": 5
}
