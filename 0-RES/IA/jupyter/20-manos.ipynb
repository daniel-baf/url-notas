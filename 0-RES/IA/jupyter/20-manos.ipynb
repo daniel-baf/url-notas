{
 "cells": [
  {
   "cell_type": "code",
   "execution_count": 1,
   "id": "151b0f94",
   "metadata": {},
   "outputs": [
    {
     "name": "stderr",
     "output_type": "stream",
     "text": [
      "2025-05-05 09:40:25.106091: I tensorflow/core/util/port.cc:113] oneDNN custom operations are on. You may see slightly different numerical results due to floating-point round-off errors from different computation orders. To turn them off, set the environment variable `TF_ENABLE_ONEDNN_OPTS=0`.\n",
      "2025-05-05 09:40:25.141962: I external/local_tsl/tsl/cuda/cudart_stub.cc:31] Could not find cuda drivers on your machine, GPU will not be used.\n",
      "2025-05-05 09:40:25.163904: E external/local_xla/xla/stream_executor/cuda/cuda_dnn.cc:9261] Unable to register cuDNN factory: Attempting to register factory for plugin cuDNN when one has already been registered\n",
      "2025-05-05 09:40:25.163932: E external/local_xla/xla/stream_executor/cuda/cuda_fft.cc:607] Unable to register cuFFT factory: Attempting to register factory for plugin cuFFT when one has already been registered\n",
      "2025-05-05 09:40:25.164670: E external/local_xla/xla/stream_executor/cuda/cuda_blas.cc:1515] Unable to register cuBLAS factory: Attempting to register factory for plugin cuBLAS when one has already been registered\n",
      "2025-05-05 09:40:25.168629: I external/local_tsl/tsl/cuda/cudart_stub.cc:31] Could not find cuda drivers on your machine, GPU will not be used.\n",
      "2025-05-05 09:40:25.169036: I tensorflow/core/platform/cpu_feature_guard.cc:182] This TensorFlow binary is optimized to use available CPU instructions in performance-critical operations.\n",
      "To enable the following instructions: AVX2 AVX512F AVX512_VNNI AVX512_BF16 FMA, in other operations, rebuild TensorFlow with the appropriate compiler flags.\n",
      "2025-05-05 09:40:27.521194: W tensorflow/compiler/tf2tensorrt/utils/py_utils.cc:38] TF-TRT Warning: Could not find TensorRT\n"
     ]
    }
   ],
   "source": [
    "import cv2\n",
    "import mediapipe as mp"
   ]
  },
  {
   "cell_type": "code",
   "execution_count": 2,
   "id": "eea8acad",
   "metadata": {},
   "outputs": [],
   "source": [
    "mp_drawing = mp.solutions.drawing_utils\n",
    "mp_hands = mp.solutions.hands"
   ]
  },
  {
   "cell_type": "code",
   "execution_count": 3,
   "id": "2074b76c",
   "metadata": {},
   "outputs": [],
   "source": [
    "ruta = \"./public/img/jpg/mano-2.jpg\"\n",
    "ruta1 = \"./public/img/jpg/mano.jpg\"\n",
    "ruta2 = \"./public/img/jpg/manos.jpg\""
   ]
  },
  {
   "cell_type": "code",
   "execution_count": 4,
   "id": "47148b02",
   "metadata": {},
   "outputs": [
    {
     "name": "stdout",
     "output_type": "stream",
     "text": [
      "Handedness: [classification {\n",
      "  index: 1\n",
      "  score: 0.952215672\n",
      "  label: \"Right\"\n",
      "}\n",
      "]\n"
     ]
    },
    {
     "name": "stderr",
     "output_type": "stream",
     "text": [
      "WARNING: All log messages before absl::InitializeLog() is called are written to STDERR\n",
      "I0000 00:00:1746459631.855482   43896 gl_context_egl.cc:85] Successfully initialized EGL. Major : 1 Minor: 5\n",
      "I0000 00:00:1746459631.858623   43998 gl_context.cc:369] GL version: 3.2 (OpenGL ES 3.2 Mesa 25.0.5-arch1.1), renderer: AMD Radeon 610M (radeonsi, raphael_mendocino, LLVM 19.1.7, DRM 3.61, 6.12.25-2-lts)\n",
      "INFO: Created TensorFlow Lite XNNPACK delegate for CPU.\n",
      "W0000 00:00:1746459631.876331   43980 inference_feedback_manager.cc:114] Feedback manager requires a model with a single signature inference. Disabling support for feedback tensors.\n",
      "W0000 00:00:1746459631.886818   43972 inference_feedback_manager.cc:114] Feedback manager requires a model with a single signature inference. Disabling support for feedback tensors.\n",
      "W0000 00:00:1746459631.951568   43982 landmark_projection_calculator.cc:186] Using NORM_RECT without IMAGE_DIMENSIONS is only supported for the square ROI. Provide IMAGE_DIMENSIONS or use PROJECTION_MATRIX.\n"
     ]
    }
   ],
   "source": [
    "with mp_hands.Hands(\n",
    "    static_image_mode=True,\n",
    "    max_num_hands=1,\n",
    "    min_detection_confidence=0.5,  # 50% minimo para confianza\n",
    ") as hands:\n",
    "    image = cv2.imread(ruta)\n",
    "    height, width, _ = image.shape\n",
    "\n",
    "    image = cv2.flip(image, 1)  # Voltear la imagen horizontalmente\n",
    "    image_rgb = cv2.cvtColor(image, cv2.COLOR_BGR2RGB)\n",
    "    results = hands.process(image_rgb)\n",
    "\n",
    "    # imprime el resultado\n",
    "    print(f\"Handedness: {results.multi_handedness}\")"
   ]
  },
  {
   "cell_type": "code",
   "execution_count": 5,
   "id": "cf198f69",
   "metadata": {},
   "outputs": [
    {
     "name": "stdout",
     "output_type": "stream",
     "text": [
      "Handedness: [classification {\n",
      "  index: 1\n",
      "  score: 0.936777413\n",
      "  label: \"Right\"\n",
      "}\n",
      "]\n"
     ]
    },
    {
     "name": "stderr",
     "output_type": "stream",
     "text": [
      "I0000 00:00:1746459631.965311   43896 gl_context_egl.cc:85] Successfully initialized EGL. Major : 1 Minor: 5\n",
      "I0000 00:00:1746459631.966774   44033 gl_context.cc:369] GL version: 3.2 (OpenGL ES 3.2 Mesa 25.0.5-arch1.1), renderer: AMD Radeon 610M (radeonsi, raphael_mendocino, LLVM 19.1.7, DRM 3.61, 6.12.25-2-lts)\n",
      "W0000 00:00:1746459631.986965   44018 inference_feedback_manager.cc:114] Feedback manager requires a model with a single signature inference. Disabling support for feedback tensors.\n",
      "W0000 00:00:1746459632.001151   44024 inference_feedback_manager.cc:114] Feedback manager requires a model with a single signature inference. Disabling support for feedback tensors.\n"
     ]
    }
   ],
   "source": [
    "with mp_hands.Hands(\n",
    "    static_image_mode=True,\n",
    "    max_num_hands=1,\n",
    "    min_detection_confidence=0.5,  # 50% minimo para confianza\n",
    ") as hands:\n",
    "    image = cv2.imread(ruta1)\n",
    "    height, width, _ = image.shape\n",
    "\n",
    "    image = cv2.flip(image, 1)  # Voltear la imagen horizontalmente\n",
    "    image_rgb = cv2.cvtColor(image, cv2.COLOR_BGR2RGB)\n",
    "    results = hands.process(image_rgb)\n",
    "\n",
    "    # imprime el resultado\n",
    "    print(f\"Handedness: {results.multi_handedness}\")"
   ]
  },
  {
   "cell_type": "code",
   "execution_count": 6,
   "id": "d8cc264f",
   "metadata": {},
   "outputs": [
    {
     "name": "stderr",
     "output_type": "stream",
     "text": [
      "I0000 00:00:1746459632.023785   43896 gl_context_egl.cc:85] Successfully initialized EGL. Major : 1 Minor: 5\n",
      "I0000 00:00:1746459632.025270   44053 gl_context.cc:369] GL version: 3.2 (OpenGL ES 3.2 Mesa 25.0.5-arch1.1), renderer: AMD Radeon 610M (radeonsi, raphael_mendocino, LLVM 19.1.7, DRM 3.61, 6.12.25-2-lts)\n",
      "W0000 00:00:1746459632.046482   44035 inference_feedback_manager.cc:114] Feedback manager requires a model with a single signature inference. Disabling support for feedback tensors.\n"
     ]
    },
    {
     "name": "stdout",
     "output_type": "stream",
     "text": [
      "Handedness: [classification {\n",
      "  index: 0\n",
      "  score: 0.986841381\n",
      "  label: \"Left\"\n",
      "}\n",
      ", classification {\n",
      "  index: 1\n",
      "  score: 0.953673\n",
      "  label: \"Right\"\n",
      "}\n",
      "]\n"
     ]
    },
    {
     "name": "stderr",
     "output_type": "stream",
     "text": [
      "W0000 00:00:1746459632.059941   44039 inference_feedback_manager.cc:114] Feedback manager requires a model with a single signature inference. Disabling support for feedback tensors.\n"
     ]
    }
   ],
   "source": [
    "with mp_hands.Hands(\n",
    "    static_image_mode=True,\n",
    "    max_num_hands=2,\n",
    "    min_detection_confidence=0.5,  # 50% minimo para confianza\n",
    ") as hands:\n",
    "    image = cv2.imread(ruta2)\n",
    "    height, width, _ = image.shape\n",
    "\n",
    "    image = cv2.flip(image, 1)  # Voltear la imagen horizontalmente\n",
    "    image_rgb = cv2.cvtColor(image, cv2.COLOR_BGR2RGB)\n",
    "    results = hands.process(image_rgb)\n",
    "\n",
    "    # imprime el resultado\n",
    "    print(f\"Handedness: {results.multi_handedness}\")"
   ]
  }
 ],
 "metadata": {
  "kernelspec": {
   "display_name": "venv",
   "language": "python",
   "name": "python3"
  },
  "language_info": {
   "codemirror_mode": {
    "name": "ipython",
    "version": 3
   },
   "file_extension": ".py",
   "mimetype": "text/x-python",
   "name": "python",
   "nbconvert_exporter": "python",
   "pygments_lexer": "ipython3",
   "version": "3.10.16"
  }
 },
 "nbformat": 4,
 "nbformat_minor": 5
}
